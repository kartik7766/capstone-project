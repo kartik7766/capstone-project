{
  "nbformat": 4,
  "nbformat_minor": 0,
  "metadata": {
    "colab": {
      "provenance": []
    },
    "kernelspec": {
      "name": "python3",
      "display_name": "Python 3"
    },
    "language_info": {
      "name": "python"
    }
  },
  "cells": [
    {
      "cell_type": "markdown",
      "source": [
        "##Mandatory project python foundation\n",
        "student id- S5101\n"
      ],
      "metadata": {
        "id": "b4lNng2YBju-"
      }
    },
    {
      "cell_type": "markdown",
      "source": [
        "###Q1.\n",
        " You are working in a bank, and you have been given two lists of the employees who worked in 2021. Employees’ names in list 1 are Ramesh, Suresh, Mahesh, Ali, Jacob, and Saritha. List 2 contains the names of Ali, Mukesh, Mahesh, Jacob, Sai, and Sarita. Please write a program that helps to identify people who are common in both lists. Please do not use any in-built function."
      ],
      "metadata": {
        "id": "801BJ6ecWOS7"
      }
    },
    {
      "cell_type": "code",
      "execution_count": null,
      "metadata": {
        "colab": {
          "base_uri": "https://localhost:8080/"
        },
        "id": "v4fZO3WW-0uD",
        "outputId": "11420b8c-51cb-43f9-cd6d-1dadf3144fd5"
      },
      "outputs": [
        {
          "output_type": "stream",
          "name": "stdout",
          "text": [
            "common people in both the list are ['Mahesh', 'Ali', 'Sarita']\n"
          ]
        }
      ],
      "source": [
        "list1 = ['Ramesh','Suresh','Mahesh', 'Ali','jacob','Sarita']\n",
        "list2 = ['Ali','Mukesh','Mahesh','Jacob','Sai','Sarita']\n",
        "u=[]\n",
        "for i in range(len(list1)):\n",
        "  if list1[i] in list2:\n",
        "    u.append(list[i])\n",
        "\n",
        "print(\"common people in both the list are\",u)\n"
      ]
    },
    {
      "cell_type": "markdown",
      "source": [
        "Q2: While entering data, someone entered a few names as a common string “Ramesh Suresh Mohit”. Please write a program which separates all the names and converts them into a list. Once converted into a list, please write a program that adds their age.\n",
        "\n",
        "\n",
        "\n",
        "Ramesh:  25\n",
        "\n",
        "Suresh: 22\n",
        "\n",
        "Mohit: 26"
      ],
      "metadata": {
        "id": "v-n2IcCsWVlK"
      }
    },
    {
      "cell_type": "code",
      "source": [
        "x=input(\"enter the name\")\n",
        "y=[]\n",
        "# this splits string based on spaces\n",
        "y=x.split()\n",
        "\n",
        "# empty dictionary to store age based on names\n",
        "\n",
        "name_dict={}\n",
        "\n",
        "for i in range(len(y)):\n",
        "  # here name store value based on index\n",
        "  name=y[i]\n",
        "  age=int(input(f\"enter age of{name}\"))\n",
        "  # dictionary stores age based on key value name\n",
        "  name_dict[name]=age\n",
        "\n",
        "print(name_dict)\n",
        "\n"
      ],
      "metadata": {
        "colab": {
          "base_uri": "https://localhost:8080/"
        },
        "id": "yPufOFkNUspg",
        "outputId": "147f950d-3b81-4705-a49b-1928dd2eda25"
      },
      "execution_count": null,
      "outputs": [
        {
          "output_type": "stream",
          "name": "stdout",
          "text": [
            "enter the nameRamesh suresh Mohit\n",
            "enter age ofRamesh25\n",
            "enter age ofsuresh22\n",
            "enter age ofMohit26\n",
            "{'Ramesh': 25, 'suresh': 22, 'Mohit': 26}\n"
          ]
        }
      ]
    },
    {
      "cell_type": "markdown",
      "source": [
        "Q3: You are working in a medical store. A patient came to your medical store and asked to buy 2 strips of paracetamol, 3 strips of azithromycin, and 5 strips of Vitamin C. One strip of paracetamol costs Rs 35, one strip of azithromycin costs Rs 49, and one strip of vitamin c costs Rs. 33. Patient gave you Rs 2000. Please tell us what is the total cost of each medicine, the total cost of all medicine, and how much money you refunded to the patient.  "
      ],
      "metadata": {
        "id": "ZP92RTxki0bY"
      }
    },
    {
      "cell_type": "code",
      "source": [
        "x_para=int(input(\"How many strip of paracetamol you want\"))\n",
        "y_azithro=int(input(\"How many strip of azithromycin you want\"))\n",
        "z_vitamin=int(input(\"How many strip of vitamin C you want\"))\n",
        "\n",
        "total=35*x_para + 49*y_azithro + 33*z_vitamin\n",
        "print(f\"you total amount is {total} \")\n",
        "amount=int(input(\"Enter the currency note paid by customer\"))\n",
        "\n",
        "remain= amount-total\n",
        "\n",
        "print(f\"you have total of  {total}  and refund of {remain} for your payment of  {amount} \")"
      ],
      "metadata": {
        "colab": {
          "base_uri": "https://localhost:8080/"
        },
        "id": "TcNYyWi6ZKuA",
        "outputId": "8ce81fbd-403a-4f13-9460-0ddb3ec17ab3"
      },
      "execution_count": null,
      "outputs": [
        {
          "output_type": "stream",
          "name": "stdout",
          "text": [
            "How many strip of paracetamol you want5\n",
            "How many strip of azithromycin you want6\n",
            "How many strip of vitamin C you want2\n",
            "you total amount is 535 \n",
            "Enter the currency note paid by customer1000\n",
            "you have total of  535  and refund of 465 for your payment of  1000 \n"
          ]
        }
      ]
    },
    {
      "cell_type": "markdown",
      "source": [
        "Q4: Accept a sentence as input and find the number of vowels in it. Assume that the sentence has no punctuation marks. For example, I am learning python contains 6 vowels. This function should be applicable for all other different sentences"
      ],
      "metadata": {
        "id": "tVhZpoLhmHCK"
      }
    },
    {
      "cell_type": "code",
      "source": [
        "x= input(\"enter the sentence\")\n",
        "l='aeiouAEIOU'\n",
        "z=''\n",
        "for i in x:\n",
        "  if i in l:\n",
        "    z+=i\n",
        "\n",
        "print(\"the number of vowels :\",len(z))\n"
      ],
      "metadata": {
        "colab": {
          "base_uri": "https://localhost:8080/"
        },
        "id": "xxMTKu_XjLYQ",
        "outputId": "16b788f8-49ab-4bde-95c9-5f332313c64f"
      },
      "execution_count": null,
      "outputs": [
        {
          "output_type": "stream",
          "name": "stdout",
          "text": [
            "enter the sentencehello guys its good to see\n",
            "the number of vowels : 9\n"
          ]
        }
      ]
    },
    {
      "cell_type": "markdown",
      "source": [
        "Q5: You have been appointed by the election commission to create a website. Your first task is to work on a program which tells candidates if they are eligible for voting or not. If they are eligible, your output should be ‘Congrats! You are eligible’; otherwise, it should tell that you have to return after X number of years. The eligibility criteria for voting is 18 years."
      ],
      "metadata": {
        "id": "OxjepQoCqgj9"
      }
    },
    {
      "cell_type": "code",
      "source": [
        "age= int(input(\"Enter your age\"))\n",
        "\n",
        "if age>=18:\n",
        "  print(\"Congrats! You are eligible for voting\")\n",
        "else:\n",
        "  print(f\"you are not eligible return after {18-age} years\")"
      ],
      "metadata": {
        "colab": {
          "base_uri": "https://localhost:8080/"
        },
        "id": "XB6MKeXZnM_U",
        "outputId": "e5d0a29c-cb02-4cae-a15e-b65e6ce568f2"
      },
      "execution_count": null,
      "outputs": [
        {
          "output_type": "stream",
          "name": "stdout",
          "text": [
            "Enter your age15\n",
            "you are not eligible return after 3 years\n"
          ]
        }
      ]
    },
    {
      "cell_type": "markdown",
      "source": [
        "Q6: Given a list of integers, find the cumulative sum of the elements of the list and store them in another list."
      ],
      "metadata": {
        "id": "v9nLheoDrTre"
      }
    },
    {
      "cell_type": "code",
      "source": [
        "A=[1,2,3,4,5]\n",
        "B=[]\n",
        "sum=0\n",
        "for i in A:\n",
        "  sum=sum+i\n",
        "  B.append(sum)\n",
        "\n",
        "print(\"input list :\",A)\n",
        "print(\"cumulative sum :\",B)"
      ],
      "metadata": {
        "colab": {
          "base_uri": "https://localhost:8080/"
        },
        "id": "X5EoEqYJrN6M",
        "outputId": "334c13c7-897e-43bc-87d7-0041c8cfb37f"
      },
      "execution_count": null,
      "outputs": [
        {
          "output_type": "stream",
          "name": "stdout",
          "text": [
            "input list : [1, 2, 3, 4, 5]\n",
            "cumulative sum : [1, 3, 6, 10, 15]\n"
          ]
        }
      ]
    },
    {
      "cell_type": "markdown",
      "source": [
        "Q7:\n",
        "\n",
        "WAP to encode a message entered by user as per below conditions:\n",
        "\n",
        "\n",
        "\n",
        "for every word in the sentence,\n",
        "\n",
        "1. If the word starts with a vowel, encode it as the first and last letter of the word.\n",
        "\n",
        "2. If the word starts with a consonant, remove all vowels from it."
      ],
      "metadata": {
        "id": "SQtKPaVqtZgG"
      }
    },
    {
      "cell_type": "code",
      "source": [
        "sent= input(\"Enter a sentence\")\n",
        "#splits the sentence into words\n",
        "new_sent=sent.split()\n",
        "\n",
        "vowels=\"aeiouAEIOU\"\n",
        "mod2=[]\n",
        "mod_sent=[]\n",
        "final=[]\n",
        "\n",
        "for i in new_sent: #for loop for words in sentence\n",
        "  if i[0] in vowels:   # if first letter of word is vowel\n",
        "    mod_sent=(i[0]+i[-1]) #add first and last letter of word\n",
        "  else:\n",
        "    mod2=list(i) #here word that are not starting with vowel is split into letters\n",
        "    mod_sent=\" \"\n",
        "    for k in mod2:\n",
        "      if k not in (vowels):\n",
        "        mod_sent+=k #adding all the consonants\n",
        "\n",
        "  final.append(mod_sent) #this adds every word according to the condition\n",
        "\n",
        "print(\" \".join(final)) #prints the string"
      ],
      "metadata": {
        "colab": {
          "base_uri": "https://localhost:8080/"
        },
        "id": "Li0-JskQl-1v",
        "outputId": "d9200aa0-a05b-49b0-8003-47c3e0923227"
      },
      "execution_count": null,
      "outputs": [
        {
          "output_type": "stream",
          "name": "stdout",
          "text": [
            "Enter a sentencehello how are you\n",
            " hll  hw ae  y\n"
          ]
        }
      ]
    },
    {
      "cell_type": "markdown",
      "source": [
        "Q8\n",
        "Write a program to implement run length encoding of a string\n",
        "RLE:Consecutive repetition of a character has to be replaced with the count of occurrences and the character.\n",
        "Enter your string :aabbbccdddae\n",
        "Encoded: 2a3b2c3d1a1e"
      ],
      "metadata": {
        "id": "x2jW1cqSZ3F5"
      }
    },
    {
      "cell_type": "code",
      "source": [
        "def sent_count(x):\n",
        "  count=1\n",
        "  l=\"\"\n",
        "  for i in range(1,len(sent)):\n",
        "    if sent[i]==sent[i-1]:\n",
        "      count=count+1\n",
        "    else:\n",
        "      l+=str(count)+sent[i-1]\n",
        "      count=1\n",
        "  l+=str(count)+sent[-1]\n",
        "  return l\n",
        "\n",
        "\n",
        "sent= input(\"Enter the sentence\")\n",
        "final=sent_count(sent)\n",
        "print(final)"
      ],
      "metadata": {
        "colab": {
          "base_uri": "https://localhost:8080/"
        },
        "id": "Ye5HD-0xaAUq",
        "outputId": "7027852b-ec8d-48c5-ef53-4f7f5d4101fc"
      },
      "execution_count": null,
      "outputs": [
        {
          "output_type": "stream",
          "name": "stdout",
          "text": [
            "Enter the sentenceaa\n",
            "2a\n"
          ]
        }
      ]
    }
  ]
}